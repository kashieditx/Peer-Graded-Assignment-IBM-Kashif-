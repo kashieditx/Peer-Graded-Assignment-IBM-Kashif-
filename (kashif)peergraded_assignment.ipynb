{
  "metadata": {
    "language_info": {
      "codemirror_mode": {
        "name": "python",
        "version": 3
      },
      "file_extension": ".py",
      "mimetype": "text/x-python",
      "name": "python",
      "nbconvert_exporter": "python",
      "pygments_lexer": "ipython3",
      "version": "3.8"
    },
    "kernelspec": {
      "name": "python",
      "display_name": "Python (Pyodide)",
      "language": "python"
    }
  },
  "nbformat_minor": 4,
  "nbformat": 4,
  "cells": [
    {
      "cell_type": "markdown",
      "source": "# My Jupyter Notebook on IBM Watson Studio ",
      "metadata": {
        "tags": []
      }
    },
    {
      "cell_type": "markdown",
      "source": "**Kashif Hussain**\n-------------\nI want to become a Data Scientist",
      "metadata": {}
    },
    {
      "cell_type": "markdown",
      "source": "*I am very interested in playing with data that's why i wanna be a data scientist*",
      "metadata": {}
    },
    {
      "cell_type": "markdown",
      "source": "### My code perform simple mathmatical operations e.g +,-,/,*",
      "metadata": {}
    },
    {
      "cell_type": "code",
      "source": "print(\"first no = 10\")\nprint(\"Second no = 20\")\na=10\nb=20\nprint(\"Addition operation ( 10+20 ) = \" + str(a+b))\nprint(\"Subtraction operation ( 10-20 ) = \" + str(a-b))\nprint(\"Multiplication operation ( 10*20 ) = \" + str(a*b))\nprint(\"Division operation ( 10/20 ) = \" + str(a/b))",
      "metadata": {
        "trusted": true
      },
      "execution_count": 3,
      "outputs": [
        {
          "name": "stdout",
          "text": "first no = 10\nSecond no = 20\nAddition operation ( 10+20 ) = 30\nSubtraction operation ( 10-20 ) = -10\nMultiplication operation ( 10*20 ) = 200\nDivision operation ( 10/20 ) = 0.5\n",
          "output_type": "stream"
        }
      ]
    },
    {
      "cell_type": "markdown",
      "source": "### Horizontal Line\nspeed = distace / time \n***\nvelocity = displacement / time\n\n### Number list\n**Top Pakistani Heroes**\n1. Quaid-e-Azam\n2. Alama Iqbal\n3. Edhi\n### Bullet list\n- Pakistan\n - Punjab\n * Attock\n### Blocked quotes\n>One Day a Successful Data Scientist\n### Table \n|Name|Age|Class|\n|---|-----|-------|\n|Zubair|20|15|\n|---|-----|-------|\n|Hani|22|14.5|",
      "metadata": {}
    },
    {
      "cell_type": "code",
      "source": "",
      "metadata": {},
      "execution_count": null,
      "outputs": []
    }
  ]
}